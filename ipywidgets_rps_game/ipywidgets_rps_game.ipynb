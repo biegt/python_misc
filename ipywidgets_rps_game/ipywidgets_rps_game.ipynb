{
 "cells": [
  {
   "cell_type": "code",
   "execution_count": 1,
   "metadata": {},
   "outputs": [
    {
     "data": {
      "application/vnd.jupyter.widget-view+json": {
       "model_id": "e6693ac29cb6426eb42835557c13e2fd",
       "version_major": 2,
       "version_minor": 0
      },
      "text/plain": [
       "Label(value='Welcome to a game of Rock-Paper-Scissors-Lizard-Spock! Please choose your weapon.')"
      ]
     },
     "metadata": {},
     "output_type": "display_data"
    },
    {
     "data": {
      "application/vnd.jupyter.widget-view+json": {
       "model_id": "02efe856531a417289986b11fce8f6ec",
       "version_major": 2,
       "version_minor": 0
      },
      "text/plain": [
       "HBox(children=(LoadedButton(button_style='info', description='Rock', layout=Layout(width='100px'), style=Butto…"
      ]
     },
     "metadata": {},
     "output_type": "display_data"
    },
    {
     "data": {
      "application/vnd.jupyter.widget-view+json": {
       "model_id": "af7da45dab95478da88a51630cabb710",
       "version_major": 2,
       "version_minor": 0
      },
      "text/plain": [
       "HBox(children=(Button(description='User score: 0', layout=Layout(width='256px'), style=ButtonStyle()), Button(…"
      ]
     },
     "metadata": {},
     "output_type": "display_data"
    }
   ],
   "source": [
    "from ipywidgets import widgets, HBox, Layout\n",
    "import random\n",
    "from traitlets import traitlets\n",
    "from IPython.display import clear_output\n",
    "\n",
    "\n",
    "def find_winner(b, computer, user):\n",
    "    \"\"\"Function that determines the winner of the RPS-game.\"\"\"\n",
    "    \n",
    "    # Message that should be printed out\n",
    "    tie_msg = \"You've chosen {}. I've chosen {}. It's a tie!\".format(user, computer)\n",
    "    comp_win_msg = \"You've chosen {}. I've chosen {}. I win this round!\".format(user, computer)\n",
    "    user_win_msg = \"You've chosen {}. I've chosen {}. You win this round!\".format(user, computer)\n",
    "    \n",
    "    # Dictionary that specifies who wins against who\n",
    "    win_dict = {'Paper': ['Rock', 'Spock'],\n",
    "                'Rock': ['Lizard', 'Scissors'],\n",
    "                'Scissors': ['Paper', 'Lizard'],\n",
    "                'Lizard': ['Spock', 'Paper'],\n",
    "                'Spock': ['Scissors', 'Rock']}\n",
    "    \n",
    "    # Logic to determine the winner\n",
    "    if computer == user:\n",
    "        display(widgets.Label(tie_msg))\n",
    "        b.score_update_comp = 0\n",
    "        b.score_update_user = 0\n",
    "    elif user in win_dict[computer]:\n",
    "        display(widgets.Label(comp_win_msg))\n",
    "        b.score_update_comp = 1\n",
    "        b.score_update_user = 0\n",
    "    else:\n",
    "        display(widgets.Label(user_win_msg))\n",
    "        b.score_update_comp = 0\n",
    "        b.score_update_user = 1\n",
    "\n",
    "    return b.score_update_comp, b.score_update_user\n",
    "\n",
    "\n",
    "class LoadedButton(widgets.Button):\n",
    "    \"\"\"A button that can hold the result of the last game.\"\"\"\n",
    "\n",
    "    def __init__(self, score_update_comp = None, score_update_user = None, *args, **kwargs):\n",
    "        super(LoadedButton, self).__init__(*args, **kwargs)\n",
    "        \n",
    "        self.add_traits(score_update_comp = traitlets.Any(score_update_comp))\n",
    "        self.add_traits(score_update_user = traitlets.Any(score_update_user))\n",
    "\n",
    "        \n",
    "# Define the game class\n",
    "class Game:\n",
    "    # Initialize computer score and user score\n",
    "    computer_score = 0\n",
    "    user_score = 0\n",
    "        \n",
    "    def __init__(self, rounds_to_win = 2):\n",
    "        # Optional parameter that can be used to alter the number of round to be played\n",
    "        self.rounds_to_win = rounds_to_win\n",
    "    \n",
    "    # Method that defines what should if the user clicks on one of the buttons\n",
    "    def on_button_clicked(self, b):\n",
    "        \"\"\"Function that defines what should happen if the user clicks on one of the buttons.\"\"\"\n",
    "\n",
    "        clear_output()\n",
    "        \n",
    "        user_choice = b.description\n",
    "        computer_choice = random.choice([\"Paper\", \"Rock\", \"Scissors\", \"Lizard\", \"Spock\"])\n",
    "\n",
    "        b.score_update_comp, b.score_update_user = find_winner(b, computer_choice, user_choice)\n",
    "\n",
    "        self.computer_score = self.computer_score + b.score_update_comp\n",
    "        self.user_score = self.user_score + b.score_update_user\n",
    "\n",
    "        # Define button to restart the game\n",
    "        restart_button = widgets.Button(description = \"Try again.\", button_style = 'success', icon = 'check')\n",
    "        restart_button.on_click(self.another_set)\n",
    "\n",
    "        # Determine what should happen when someone wins the best of three\n",
    "        if self.user_score == self.rounds_to_win:\n",
    "            win_msg = widgets.Label(\"So, you've won the best of {}! Congratulations!\".format((self.rounds_to_win * 2) - 1))\n",
    "            display(win_msg, restart_button)\n",
    "        elif self.computer_score == self.rounds_to_win:\n",
    "            lose_msg = widgets.Label(\"So, I've won the best of {}!\".format((self.rounds_to_win * 2) - 1))\n",
    "            display(lose_msg, restart_button)\n",
    "        else:\n",
    "            self.play()\n",
    "\n",
    "  \n",
    "    def play(self, b = None, first_round = False):\n",
    "        \"\"\"Method that defines the user interface and starts the game\"\"\"\n",
    "        \n",
    "        # Define the buttons for the game\n",
    "        button_list = ['Paper', 'Rock', 'Scissors', 'Lizard', 'Spock']\n",
    "        paper_button, rock_button, scissors_button, lizard_button, spock_button = [LoadedButton(description = x,\n",
    "                                                                                                score_update_comp = 0,\n",
    "                                                                                                score_update_user = 0,\n",
    "                                                                                                button_style = 'info',\n",
    "                                                                                                layout = Layout(width = '100px'))\n",
    "                                                                                   for x in button_list]\n",
    "        # Add functionality to the buttons\n",
    "        [x.on_click(self.on_button_clicked) for x in [paper_button, rock_button, scissors_button, lizard_button, spock_button]]\n",
    "\n",
    "        # Define the boxes that are used for the layout\n",
    "        score_box = HBox([widgets.Button(description = \"User score: {}\".format(self.user_score),\n",
    "                                         layout = Layout(width = '256px')),\n",
    "                          widgets.Button(description = \"Computer score: {}\".format(self.computer_score),\n",
    "                                         layout = Layout(width = '256px'))])\n",
    "        \n",
    "        button_box = HBox([rock_button, paper_button, scissors_button, lizard_button, spock_button])\n",
    "\n",
    "        # Display the user interface\n",
    "        if first_round:\n",
    "            display(widgets.Label('Welcome to a game of Rock-Paper-Scissors-Lizard-Spock! Please choose your weapon.'))\n",
    "            \n",
    "        display(button_box, score_box)\n",
    "    \n",
    "    # Method that is called when the user wants to play another set (game)\n",
    "    def another_set(self, b):\n",
    "        self.computer_score = 0\n",
    "        self.user_score = 0\n",
    "        \n",
    "        clear_output()\n",
    "        self.play(first_round = True)\n",
    "        \n",
    "        \n",
    "# Create an instance of the game and start playing :) - optionally you can pass the number of rounds you want to play to Game()\n",
    "game = Game(rounds_to_win = 2)\n",
    "game.play(first_round = True)"
   ]
  }
 ],
 "metadata": {
  "kernelspec": {
   "display_name": "Python 3",
   "language": "python",
   "name": "python3"
  },
  "language_info": {
   "codemirror_mode": {
    "name": "ipython",
    "version": 3
   },
   "file_extension": ".py",
   "mimetype": "text/x-python",
   "name": "python",
   "nbconvert_exporter": "python",
   "pygments_lexer": "ipython3",
   "version": "3.7.4"
  }
 },
 "nbformat": 4,
 "nbformat_minor": 2
}
