{
 "cells": [
  {
   "cell_type": "markdown",
   "metadata": {},
   "source": [
    "Import functions from the `math`-module to compute density function of the normal distribution."
   ]
  },
  {
   "cell_type": "code",
   "execution_count": 1,
   "metadata": {},
   "outputs": [],
   "source": [
    "from math import sqrt, pi, exp"
   ]
  },
  {
   "cell_type": "markdown",
   "metadata": {},
   "source": [
    "Define the data needed for the classification task."
   ]
  },
  {
   "cell_type": "code",
   "execution_count": 2,
   "metadata": {},
   "outputs": [],
   "source": [
    "height = [180, 174, 184, 168, 178, 170, 164, 155, 162, 166]\n",
    "weight = [75, 71, 83, 63, 70, 59, 53, 46, 52, 55]\n",
    "hair_length = [\"Short\", \"Short\", \"Short\", \"Short\", \"Long\", \"Long\", \"Short\", \"Long\", \"Long\",  \"Long\"]\n",
    "gender = [\"Male\", \"Male\", \"Male\", \"Male\", \"Male\", \"Female\", \"Female\", \"Female\", \"Female\", \"Female\"]\n",
    "\n",
    "incomplete_data = [172, 60, \"Long\"]"
   ]
  },
  {
   "cell_type": "markdown",
   "metadata": {},
   "source": [
    "To calculate probabilites for height and weight, we will use the normal distribution. Before we can do this, we need to calculate the parameters $\\mu$ and $\\sigma^2$ of height und weight for males and females.\n",
    "\n",
    "Since the list `gender` is already sorted (first five values correspond to males, the other values correspond to females), we can calculate these parameters like this:"
   ]
  },
  {
   "cell_type": "code",
   "execution_count": 3,
   "metadata": {
    "scrolled": true
   },
   "outputs": [],
   "source": [
    "def mean(data):\n",
    "    return(sum(data) / len(data))\n",
    "\n",
    "mean_height_m, mean_height_f, mean_weight_m, mean_weight_f = list(map(mean, [height[0:5],\n",
    "                                                                             height[5:10],\n",
    "                                                                             weight[0:5],\n",
    "                                                                             weight[5:10]]))\n",
    "\n",
    "def variance(data):\n",
    "    data_mean = sum(data) / len(data)\n",
    "    return sum([(data[i] - data_mean)**2 for i in range(len(data))]) / (len(data) - 1)\n",
    "\n",
    "var_height_m, var_height_f, var_weight_m, var_weight_f = list(map(variance, [height[0:5],\n",
    "                                                                             height[5:10],\n",
    "                                                                             weight[0:5],\n",
    "                                                                             weight[5:10]]))"
   ]
  },
  {
   "cell_type": "markdown",
   "metadata": {},
   "source": [
    "Next, we can create a function that outputs a probability using the normal distribution:"
   ]
  },
  {
   "cell_type": "code",
   "execution_count": 4,
   "metadata": {},
   "outputs": [],
   "source": [
    "def normal_prob(x, mean, variance):\n",
    "    return (1 / sqrt(2 * pi * variance)) * exp(-(x - mean)**2 / (2 * variance))"
   ]
  },
  {
   "cell_type": "markdown",
   "metadata": {},
   "source": [
    "How we are ready to calculate all probabilites we need to answer the given questions."
   ]
  },
  {
   "cell_type": "code",
   "execution_count": 5,
   "metadata": {},
   "outputs": [],
   "source": [
    "# probability that someone is 172 cm tall given that the person is male\n",
    "p_h172_given_m = normal_prob(172, mean_height_m, var_height_m)\n",
    "\n",
    "# probability that someone weighs 60 kg given that the person is male\n",
    "p_w60_given_m = normal_prob(60, mean_weight_m, var_weight_m)\n",
    "\n",
    "# probability that someone has long hair given that the person is male\n",
    "p_hlong_given_m = hair_length[0:5].count(\"Long\") / hair_length.count(\"Long\")\n",
    "\n",
    "# (assumed) probability that someone is male\n",
    "p_m = gender.count(\"Male\") / len(gender)\n",
    "\n",
    "# probability that someone is 172 cm tall given that the person is female\n",
    "p_h172_given_f = normal_prob(172, mean_height_f, var_height_f)\n",
    "\n",
    "# probability that someone weighs 60 kg given that the person is female\n",
    "p_w60_given_f = normal_prob(60, mean_weight_f, var_weight_f)\n",
    "\n",
    "# probability that someone has long hair given that the person is female\n",
    "p_hlong_given_f = hair_length[5:10].count(\"Long\") / hair_length.count(\"Long\")\n",
    "\n",
    "# (assumed) probability that someone is female\n",
    "p_f = gender.count(\"Female\") / len(gender)"
   ]
  },
  {
   "cell_type": "markdown",
   "metadata": {},
   "source": [
    "First, we are considering hair length as variable to predict the probablility. We will look at a second example that doesn't consider hair length and compare the results.\n",
    "\n",
    "To calculate the probability that someone is male given that the person is 172 cm tall, weighs 60 kg and has long hair, we can use the following formula which is a generalization of the basic theorem by Bayes. \n",
    "\n",
    "\\begin{align}\n",
    "P(male|height = 172, weight = 60, hair = long) = \\frac{R} {R + \\neg{R}} \n",
    "\\end{align}\n",
    "\n",
    "where:\n",
    "\n",
    "\\begin{align}\n",
    "R = P(height = 172|male) \\cdot P(weight = 60|male) \\cdot P(hair = long|male) \\cdot P(male)\n",
    "\\end{align}\n",
    "\n",
    "and:\n",
    "\n",
    "\\begin{align}\n",
    "\\neg{R} =  P(height = 172|female) \\cdot P(weight = 60|female) \\cdot P(hair = long|female) \\cdot P(female)\n",
    "\\end{align}\n",
    "\n",
    "Let's plug in the values! First, we consider hair length as an additional \"predictor\". Note that we could also compute the given probability that the person is female just by switching the contents of the formula."
   ]
  },
  {
   "cell_type": "code",
   "execution_count": 6,
   "metadata": {},
   "outputs": [
    {
     "name": "stdout",
     "output_type": "stream",
     "text": [
      "Probability that someone is male given that the person is 172 cm tall,\n",
      "weighs 60 kg, and has long hair: 0.2033\n"
     ]
    }
   ],
   "source": [
    "r = p_h172_given_m * p_w60_given_m * p_hlong_given_m * p_m\n",
    "not_r = p_h172_given_f * p_w60_given_f * p_hlong_given_f * p_f\n",
    "\n",
    "p_m_given_h172_w60_hlong = r / (r + not_r)\n",
    "\n",
    "print(\n",
    "'''Probability that someone is male given that the person is 172 cm tall,\n",
    "weighs 60 kg, and has long hair: {}'''.format(round(p_m_given_h172_w60_hlong, 4))\n",
    ")"
   ]
  },
  {
   "cell_type": "markdown",
   "metadata": {},
   "source": [
    "Since the probability is below 0.5 we would consider it more likely that the person is female. What happens if we just consider height and weight?"
   ]
  },
  {
   "cell_type": "code",
   "execution_count": 7,
   "metadata": {},
   "outputs": [
    {
     "name": "stdout",
     "output_type": "stream",
     "text": [
      "Probability that someone is male given that the person is 172 cm tall\n",
      "and weighs 60 kg: 0.5051\n"
     ]
    }
   ],
   "source": [
    "r = p_h172_given_m * p_w60_given_m * p_m\n",
    "not_r = p_h172_given_f * p_w60_given_f * p_f\n",
    "\n",
    "p_m_given_h172_w60 = r / (r + not_r)\n",
    "\n",
    "print(\n",
    "'''Probability that someone is male given that the person is 172 cm tall\n",
    "and weighs 60 kg: {}'''.format(round(p_m_given_h172_w60, 4))\n",
    ")"
   ]
  },
  {
   "cell_type": "markdown",
   "metadata": {},
   "source": [
    "By only considering height and weight (not considering hair length), the result is quite different (50.51% opposed to 20.33%). The result is also more ambiguous: The probability is barely above 0.5, so just based on the cutoff at 0.5 we would guess that the given person is male. However, the probability that the given person is female is almost as high (1 - 0.5051)."
   ]
  }
 ],
 "metadata": {
  "kernelspec": {
   "display_name": "Python 3",
   "language": "python",
   "name": "python3"
  },
  "language_info": {
   "codemirror_mode": {
    "name": "ipython",
    "version": 3
   },
   "file_extension": ".py",
   "mimetype": "text/x-python",
   "name": "python",
   "nbconvert_exporter": "python",
   "pygments_lexer": "ipython3",
   "version": "3.7.4"
  }
 },
 "nbformat": 4,
 "nbformat_minor": 2
}
